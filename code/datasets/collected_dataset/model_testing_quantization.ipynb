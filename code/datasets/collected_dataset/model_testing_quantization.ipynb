{
 "cells": [
  {
   "cell_type": "code",
   "execution_count": 1,
   "metadata": {
    "colab": {
     "base_uri": "https://localhost:8080/"
    },
    "executionInfo": {
     "elapsed": 513,
     "status": "ok",
     "timestamp": 1714298552629,
     "user": {
      "displayName": "Muhammad Sadaqat",
      "userId": "06276696514282260562"
     },
     "user_tz": -240
    },
    "id": "E-aUiSom7ekw",
    "outputId": "64f72662-53ea-48fa-fafb-d73ede420dc3"
   },
   "outputs": [
    {
     "name": "stdout",
     "output_type": "stream",
     "text": [
      "/content/drive/MyDrive/1) Model\n"
     ]
    }
   ],
   "source": [
    "%cd /content/drive/MyDrive/1) Model"
   ]
  },
  {
   "cell_type": "code",
   "execution_count": 2,
   "metadata": {
    "executionInfo": {
     "elapsed": 14720,
     "status": "ok",
     "timestamp": 1714298567965,
     "user": {
      "displayName": "Muhammad Sadaqat",
      "userId": "06276696514282260562"
     },
     "user_tz": -240
    },
    "id": "bu0WUNB86vvV"
   },
   "outputs": [],
   "source": [
    "import os\n",
    "import tensorflow as tf\n",
    "import h5py\n",
    "import numpy as np\n",
    "from sklearn.metrics import accuracy_score"
   ]
  },
  {
   "cell_type": "markdown",
   "metadata": {
    "id": "Ed8bin_D8WoH"
   },
   "source": [
    "One-Hot Encoding"
   ]
  },
  {
   "cell_type": "code",
   "execution_count": 3,
   "metadata": {
    "executionInfo": {
     "elapsed": 11758,
     "status": "ok",
     "timestamp": 1714298579710,
     "user": {
      "displayName": "Muhammad Sadaqat",
      "userId": "06276696514282260562"
     },
     "user_tz": -240
    },
    "id": "DToBt-dtHgN2"
   },
   "outputs": [],
   "source": [
    "import numpy as np\n",
    "\n",
    "# Path to your .npz file\n",
    "data_file = \"x1.npz\"\n",
    "\n",
    "with np.load(data_file) as data:\n",
    "  # Access arrays by their names in the archive\n",
    "  x1 = data[\"x1\"]\n",
    "\n",
    "data_file = \"y1.npz\"\n",
    "\n",
    "with np.load(data_file) as data:\n",
    "  # Access arrays by their names in the archive\n",
    "  y1 = data[\"y1\"]"
   ]
  },
  {
   "cell_type": "code",
   "execution_count": 4,
   "metadata": {
    "colab": {
     "base_uri": "https://localhost:8080/"
    },
    "executionInfo": {
     "elapsed": 7,
     "status": "ok",
     "timestamp": 1714298579710,
     "user": {
      "displayName": "Muhammad Sadaqat",
      "userId": "06276696514282260562"
     },
     "user_tz": -240
    },
    "id": "tf-9d7uDHsxV",
    "outputId": "a107b64d-a681-4da8-c65b-08172ac9e401"
   },
   "outputs": [
    {
     "data": {
      "text/plain": [
       "(287971, 1024, 2)"
      ]
     },
     "execution_count": 4,
     "metadata": {},
     "output_type": "execute_result"
    }
   ],
   "source": [
    "x1.shape"
   ]
  },
  {
   "cell_type": "markdown",
   "metadata": {
    "id": "AQN8s_Ju7WwO"
   },
   "source": [
    "Post Training Quantization FLOAT 16"
   ]
  },
  {
   "cell_type": "code",
   "execution_count": 5,
   "metadata": {
    "executionInfo": {
     "elapsed": 7,
     "status": "ok",
     "timestamp": 1714298579711,
     "user": {
      "displayName": "Muhammad Sadaqat",
      "userId": "06276696514282260562"
     },
     "user_tz": -240
    },
    "id": "PhQpDF6W7TCq"
   },
   "outputs": [],
   "source": [
    "def get_file_size(file_path):\n",
    "    size = os.path.getsize(file_path)\n",
    "    return size\n",
    "\n",
    "def convert_bytes(size, unit=None):\n",
    "    if unit == \"KB\":\n",
    "        return print('File size: ' + str(round(size / 1024, 3)) + ' Kilobytes')\n",
    "    elif unit == \"MB\":\n",
    "        return print('File size: ' + str(round(size / (1024 * 1024), 3)) + ' Megabytes')\n",
    "    else:\n",
    "        return print('File size: ' + str(size) + ' bytes')"
   ]
  },
  {
   "cell_type": "code",
   "execution_count": 6,
   "metadata": {
    "executionInfo": {
     "elapsed": 1385,
     "status": "ok",
     "timestamp": 1714298581090,
     "user": {
      "displayName": "Muhammad Sadaqat",
      "userId": "06276696514282260562"
     },
     "user_tz": -240
    },
    "id": "G0ewtD1X7Yjd"
   },
   "outputs": [],
   "source": [
    "base_model = \"2case.h5\"\n",
    "model = tf.keras.models.load_model(base_model)"
   ]
  },
  {
   "cell_type": "code",
   "execution_count": 7,
   "metadata": {
    "executionInfo": {
     "elapsed": 4,
     "status": "ok",
     "timestamp": 1714298581090,
     "user": {
      "displayName": "Muhammad Sadaqat",
      "userId": "06276696514282260562"
     },
     "user_tz": -240
    },
    "id": "QfPxNF7p7aH3"
   },
   "outputs": [],
   "source": [
    "converter = tf.lite.TFLiteConverter.from_keras_model(model)\n",
    "converter.optimizations = [tf.lite.Optimize.DEFAULT]\n",
    "converter.target_spec.supported_types = [tf.float16]"
   ]
  },
  {
   "cell_type": "code",
   "execution_count": 8,
   "metadata": {
    "executionInfo": {
     "elapsed": 3423,
     "status": "ok",
     "timestamp": 1714298584509,
     "user": {
      "displayName": "Muhammad Sadaqat",
      "userId": "06276696514282260562"
     },
     "user_tz": -240
    },
    "id": "Z52azXlw7wig"
   },
   "outputs": [],
   "source": [
    "tflite_model = converter.convert()"
   ]
  },
  {
   "cell_type": "code",
   "execution_count": 9,
   "metadata": {
    "colab": {
     "base_uri": "https://localhost:8080/"
    },
    "executionInfo": {
     "elapsed": 22,
     "status": "ok",
     "timestamp": 1714298584509,
     "user": {
      "displayName": "Muhammad Sadaqat",
      "userId": "06276696514282260562"
     },
     "user_tz": -240
    },
    "id": "5zTG493h7x6J",
    "outputId": "59e54419-e86d-40a2-bd6f-a74b72a09953"
   },
   "outputs": [
    {
     "data": {
      "text/plain": [
       "16794932"
      ]
     },
     "execution_count": 9,
     "metadata": {},
     "output_type": "execute_result"
    }
   ],
   "source": [
    "open(\"own_FLOAT16.tflite\",\"wb\").write(tflite_model)"
   ]
  },
  {
   "cell_type": "code",
   "execution_count": 10,
   "metadata": {
    "colab": {
     "base_uri": "https://localhost:8080/"
    },
    "executionInfo": {
     "elapsed": 19,
     "status": "ok",
     "timestamp": 1714298584509,
     "user": {
      "displayName": "Muhammad Sadaqat",
      "userId": "06276696514282260562"
     },
     "user_tz": -240
    },
    "id": "bNP6Ojpv716k",
    "outputId": "4ce458d6-bfbd-4552-e1ca-09c7d96f1c0c"
   },
   "outputs": [
    {
     "name": "stdout",
     "output_type": "stream",
     "text": [
      "File size: 98424.414 Kilobytes\n"
     ]
    }
   ],
   "source": [
    "convert_bytes(get_file_size(base_model), \"KB\")"
   ]
  },
  {
   "cell_type": "code",
   "execution_count": 11,
   "metadata": {
    "executionInfo": {
     "elapsed": 573,
     "status": "ok",
     "timestamp": 1714298585065,
     "user": {
      "displayName": "Muhammad Sadaqat",
      "userId": "06276696514282260562"
     },
     "user_tz": -240
    },
    "id": "tV4k_Ceq74Mx"
   },
   "outputs": [],
   "source": [
    "TF_LITE_MODEL_FILE_NAME = \"own_FLOAT16.tflite\""
   ]
  },
  {
   "cell_type": "code",
   "execution_count": 12,
   "metadata": {
    "colab": {
     "base_uri": "https://localhost:8080/"
    },
    "executionInfo": {
     "elapsed": 10,
     "status": "ok",
     "timestamp": 1714298585066,
     "user": {
      "displayName": "Muhammad Sadaqat",
      "userId": "06276696514282260562"
     },
     "user_tz": -240
    },
    "id": "ODhQwWuD77FG",
    "outputId": "a04c0f1c-2919-4cb0-ff24-b75b64481857"
   },
   "outputs": [
    {
     "name": "stdout",
     "output_type": "stream",
     "text": [
      "File size: 16401.301 Kilobytes\n"
     ]
    }
   ],
   "source": [
    "convert_bytes(get_file_size(TF_LITE_MODEL_FILE_NAME), \"KB\")"
   ]
  },
  {
   "cell_type": "markdown",
   "metadata": {
    "id": "M6oVaTXz8FCE"
   },
   "source": [
    "Check Input Tensor Shape"
   ]
  },
  {
   "cell_type": "code",
   "execution_count": 13,
   "metadata": {
    "colab": {
     "base_uri": "https://localhost:8080/"
    },
    "executionInfo": {
     "elapsed": 9,
     "status": "ok",
     "timestamp": 1714298585066,
     "user": {
      "displayName": "Muhammad Sadaqat",
      "userId": "06276696514282260562"
     },
     "user_tz": -240
    },
    "id": "9vf7MWSH79Pn",
    "outputId": "2368f25c-6908-4719-8527-317f201116d4"
   },
   "outputs": [
    {
     "name": "stdout",
     "output_type": "stream",
     "text": [
      "Input Shape: [   1 1024    2    1]\n",
      "Input Type: <class 'numpy.float32'>\n",
      "Output Shape: [1 2]\n",
      "Output Type: <class 'numpy.float32'>\n"
     ]
    }
   ],
   "source": [
    "interpreter = tf.lite.Interpreter(model_path = TF_LITE_MODEL_FILE_NAME)\n",
    "interpreter.allocate_tensors()\n",
    "input_details = interpreter.get_input_details()\n",
    "output_details = interpreter.get_output_details()\n",
    "print(\"Input Shape:\", input_details[0]['shape'])\n",
    "print(\"Input Type:\", input_details[0]['dtype'])\n",
    "print(\"Output Shape:\", output_details[0]['shape'])\n",
    "print(\"Output Type:\", output_details[0]['dtype'])"
   ]
  },
  {
   "cell_type": "code",
   "execution_count": 14,
   "metadata": {
    "colab": {
     "base_uri": "https://localhost:8080/"
    },
    "executionInfo": {
     "elapsed": 384,
     "status": "ok",
     "timestamp": 1714298587052,
     "user": {
      "displayName": "Muhammad Sadaqat",
      "userId": "06276696514282260562"
     },
     "user_tz": -240
    },
    "id": "mV9CxNjS8HWx",
    "outputId": "348b1970-f9c8-48ab-8a16-cebb1188de1f"
   },
   "outputs": [
    {
     "name": "stdout",
     "output_type": "stream",
     "text": [
      "Input Shape: [5000 1024    2    1]\n",
      "Input Type: <class 'numpy.float32'>\n",
      "Output Shape: [5000    2]\n",
      "Output Type: <class 'numpy.float32'>\n"
     ]
    }
   ],
   "source": [
    "interpreter.resize_tensor_input(input_details[0]['index'], (5000, 1024, 2, 1))\n",
    "interpreter.resize_tensor_input(output_details[0]['index'], (5000, 16))\n",
    "interpreter.allocate_tensors()\n",
    "input_details = interpreter.get_input_details()\n",
    "output_details = interpreter.get_output_details()\n",
    "print(\"Input Shape:\", input_details[0]['shape'])\n",
    "print(\"Input Type:\", input_details[0]['dtype'])\n",
    "print(\"Output Shape:\", output_details[0]['shape'])\n",
    "print(\"Output Type:\", output_details[0]['dtype'])"
   ]
  },
  {
   "cell_type": "code",
   "execution_count": 15,
   "metadata": {
    "executionInfo": {
     "elapsed": 331,
     "status": "ok",
     "timestamp": 1714298589470,
     "user": {
      "displayName": "Muhammad Sadaqat",
      "userId": "06276696514282260562"
     },
     "user_tz": -240
    },
    "id": "JGpu_HC38LIr"
   },
   "outputs": [],
   "source": [
    "X_test_reshaped = x1[0:5000].reshape(5000, 1024, 2, 1)"
   ]
  },
  {
   "cell_type": "code",
   "execution_count": 16,
   "metadata": {
    "colab": {
     "base_uri": "https://localhost:8080/"
    },
    "executionInfo": {
     "elapsed": 11920,
     "status": "ok",
     "timestamp": 1714298605000,
     "user": {
      "displayName": "Muhammad Sadaqat",
      "userId": "06276696514282260562"
     },
     "user_tz": -240
    },
    "id": "mm59hkAE8czB",
    "outputId": "0751b080-ef82-41ee-b5fa-1407d51db77a"
   },
   "outputs": [
    {
     "name": "stdout",
     "output_type": "stream",
     "text": [
      "Prediction results shape: (5000, 2)\n"
     ]
    }
   ],
   "source": [
    "interpreter.set_tensor(input_details[0]['index'], X_test_reshaped)\n",
    "interpreter.invoke()\n",
    "tflite_model_predictions = interpreter.get_tensor(output_details[0]['index'])\n",
    "print(\"Prediction results shape:\", tflite_model_predictions.shape)\n",
    "prediction_classes = np.argmax(tflite_model_predictions, axis=1)"
   ]
  },
  {
   "cell_type": "code",
   "execution_count": 19,
   "metadata": {
    "colab": {
     "base_uri": "https://localhost:8080/"
    },
    "executionInfo": {
     "elapsed": 370,
     "status": "ok",
     "timestamp": 1714298772788,
     "user": {
      "displayName": "Muhammad Sadaqat",
      "userId": "06276696514282260562"
     },
     "user_tz": -240
    },
    "id": "ubtUb3TKK0nw",
    "outputId": "75e49815-e2a8-47e8-d5ab-c6c044f4008e"
   },
   "outputs": [
    {
     "data": {
      "text/plain": [
       "array([1, 1, 1, ..., 0, 0, 0])"
      ]
     },
     "execution_count": 19,
     "metadata": {},
     "output_type": "execute_result"
    }
   ],
   "source": [
    "prediction_classes"
   ]
  },
  {
   "cell_type": "markdown",
   "metadata": {
    "id": "PQT8y5l88gRg"
   },
   "source": [
    "Base model accuracy"
   ]
  },
  {
   "cell_type": "code",
   "execution_count": null,
   "metadata": {
    "id": "aFQVhldp8ei3"
   },
   "outputs": [],
   "source": [
    "model.evaluate(x1, y1, verbose=1)"
   ]
  },
  {
   "cell_type": "markdown",
   "metadata": {
    "id": "rRc_Wbdm8kmx"
   },
   "source": [
    "Post Training Float 16 accuracy"
   ]
  },
  {
   "cell_type": "code",
   "execution_count": 17,
   "metadata": {
    "executionInfo": {
     "elapsed": 336,
     "status": "ok",
     "timestamp": 1714298618322,
     "user": {
      "displayName": "Muhammad Sadaqat",
      "userId": "06276696514282260562"
     },
     "user_tz": -240
    },
    "id": "NXr_CWP08ih6"
   },
   "outputs": [],
   "source": [
    "acc = accuracy_score(prediction_classes, y1[0:5000])"
   ]
  },
  {
   "cell_type": "code",
   "execution_count": 18,
   "metadata": {
    "colab": {
     "base_uri": "https://localhost:8080/"
    },
    "executionInfo": {
     "elapsed": 331,
     "status": "ok",
     "timestamp": 1714298620408,
     "user": {
      "displayName": "Muhammad Sadaqat",
      "userId": "06276696514282260562"
     },
     "user_tz": -240
    },
    "id": "Rtn2NIBn8mmW",
    "outputId": "4f3c1ca9-79bc-4105-abf8-3e0309b8d5e4"
   },
   "outputs": [
    {
     "name": "stdout",
     "output_type": "stream",
     "text": [
      "Test accuracy TFLITE model : 0.999\n"
     ]
    }
   ],
   "source": [
    "print('Test accuracy TFLITE model :', acc)"
   ]
  },
  {
   "cell_type": "markdown",
   "metadata": {
    "id": "xfvtJcO18viF"
   },
   "source": [
    "Access Quantized Weights of TFLite"
   ]
  },
  {
   "cell_type": "code",
   "execution_count": null,
   "metadata": {
    "colab": {
     "base_uri": "https://localhost:8080/"
    },
    "executionInfo": {
     "elapsed": 335,
     "status": "ok",
     "timestamp": 1714211200927,
     "user": {
      "displayName": "Muhammad Sadaqat",
      "userId": "06276696514282260562"
     },
     "user_tz": -240
    },
    "id": "1BZpEpb88p5u",
    "outputId": "91484c10-b3c3-44d7-fae9-95269de9e58f"
   },
   "outputs": [
    {
     "data": {
      "text/plain": [
       "[{'name': 'serving_default_conv2d_input:0',\n",
       "  'index': 0,\n",
       "  'shape': array([31997,   128,     2,     1], dtype=int32),\n",
       "  'shape_signature': array([ -1, 128,   2,   1], dtype=int32),\n",
       "  'dtype': numpy.float32,\n",
       "  'quantization': (0.0, 0),\n",
       "  'quantization_parameters': {'scales': array([], dtype=float32),\n",
       "   'zero_points': array([], dtype=int32),\n",
       "   'quantized_dimension': 0},\n",
       "  'sparsity_parameters': {}},\n",
       " {'name': 'sequential/flatten/Const',\n",
       "  'index': 1,\n",
       "  'shape': array([2], dtype=int32),\n",
       "  'shape_signature': array([2], dtype=int32),\n",
       "  'dtype': numpy.int32,\n",
       "  'quantization': (0.0, 0),\n",
       "  'quantization_parameters': {'scales': array([], dtype=float32),\n",
       "   'zero_points': array([], dtype=int32),\n",
       "   'quantized_dimension': 0},\n",
       "  'sparsity_parameters': {}},\n",
       " {'name': 'sequential/conv2d/BiasAdd/ReadVariableOp',\n",
       "  'index': 2,\n",
       "  'shape': array([32], dtype=int32),\n",
       "  'shape_signature': array([32], dtype=int32),\n",
       "  'dtype': numpy.float16,\n",
       "  'quantization': (0.0, 0),\n",
       "  'quantization_parameters': {'scales': array([], dtype=float32),\n",
       "   'zero_points': array([], dtype=int32),\n",
       "   'quantized_dimension': 0},\n",
       "  'sparsity_parameters': {}},\n",
       " {'name': 'sequential/conv2d_1/BiasAdd/ReadVariableOp',\n",
       "  'index': 3,\n",
       "  'shape': array([32], dtype=int32),\n",
       "  'shape_signature': array([32], dtype=int32),\n",
       "  'dtype': numpy.float16,\n",
       "  'quantization': (0.0, 0),\n",
       "  'quantization_parameters': {'scales': array([], dtype=float32),\n",
       "   'zero_points': array([], dtype=int32),\n",
       "   'quantized_dimension': 0},\n",
       "  'sparsity_parameters': {}},\n",
       " {'name': 'sequential/conv2d/Conv2D',\n",
       "  'index': 4,\n",
       "  'shape': array([32,  3,  2,  1], dtype=int32),\n",
       "  'shape_signature': array([32,  3,  2,  1], dtype=int32),\n",
       "  'dtype': numpy.float16,\n",
       "  'quantization': (0.0, 0),\n",
       "  'quantization_parameters': {'scales': array([], dtype=float32),\n",
       "   'zero_points': array([], dtype=int32),\n",
       "   'quantized_dimension': 0},\n",
       "  'sparsity_parameters': {}},\n",
       " {'name': 'sequential/conv2d_1/Conv2D',\n",
       "  'index': 5,\n",
       "  'shape': array([32,  3,  2, 32], dtype=int32),\n",
       "  'shape_signature': array([32,  3,  2, 32], dtype=int32),\n",
       "  'dtype': numpy.float16,\n",
       "  'quantization': (0.0, 0),\n",
       "  'quantization_parameters': {'scales': array([], dtype=float32),\n",
       "   'zero_points': array([], dtype=int32),\n",
       "   'quantized_dimension': 0},\n",
       "  'sparsity_parameters': {}},\n",
       " {'name': 'sequential/dense/BiasAdd/ReadVariableOp',\n",
       "  'index': 6,\n",
       "  'shape': array([128], dtype=int32),\n",
       "  'shape_signature': array([128], dtype=int32),\n",
       "  'dtype': numpy.float16,\n",
       "  'quantization': (0.0, 0),\n",
       "  'quantization_parameters': {'scales': array([], dtype=float32),\n",
       "   'zero_points': array([], dtype=int32),\n",
       "   'quantized_dimension': 0},\n",
       "  'sparsity_parameters': {}},\n",
       " {'name': 'sequential/dense_1/BiasAdd/ReadVariableOp',\n",
       "  'index': 7,\n",
       "  'shape': array([16], dtype=int32),\n",
       "  'shape_signature': array([16], dtype=int32),\n",
       "  'dtype': numpy.float16,\n",
       "  'quantization': (0.0, 0),\n",
       "  'quantization_parameters': {'scales': array([], dtype=float32),\n",
       "   'zero_points': array([], dtype=int32),\n",
       "   'quantized_dimension': 0},\n",
       "  'sparsity_parameters': {}},\n",
       " {'name': 'sequential/dense/MatMul',\n",
       "  'index': 8,\n",
       "  'shape': array([ 128, 8192], dtype=int32),\n",
       "  'shape_signature': array([ 128, 8192], dtype=int32),\n",
       "  'dtype': numpy.float16,\n",
       "  'quantization': (0.0, 0),\n",
       "  'quantization_parameters': {'scales': array([], dtype=float32),\n",
       "   'zero_points': array([], dtype=int32),\n",
       "   'quantized_dimension': 0},\n",
       "  'sparsity_parameters': {}},\n",
       " {'name': 'sequential/dense_1/MatMul',\n",
       "  'index': 9,\n",
       "  'shape': array([ 16, 128], dtype=int32),\n",
       "  'shape_signature': array([ 16, 128], dtype=int32),\n",
       "  'dtype': numpy.float16,\n",
       "  'quantization': (0.0, 0),\n",
       "  'quantization_parameters': {'scales': array([], dtype=float32),\n",
       "   'zero_points': array([], dtype=int32),\n",
       "   'quantized_dimension': 0},\n",
       "  'sparsity_parameters': {}},\n",
       " {'name': 'sequential/conv2d/BiasAdd/ReadVariableOp1',\n",
       "  'index': 10,\n",
       "  'shape': array([32], dtype=int32),\n",
       "  'shape_signature': array([32], dtype=int32),\n",
       "  'dtype': numpy.float32,\n",
       "  'quantization': (0.0, 0),\n",
       "  'quantization_parameters': {'scales': array([], dtype=float32),\n",
       "   'zero_points': array([], dtype=int32),\n",
       "   'quantized_dimension': 0},\n",
       "  'sparsity_parameters': {}},\n",
       " {'name': 'sequential/conv2d_1/BiasAdd/ReadVariableOp1',\n",
       "  'index': 11,\n",
       "  'shape': array([32], dtype=int32),\n",
       "  'shape_signature': array([32], dtype=int32),\n",
       "  'dtype': numpy.float32,\n",
       "  'quantization': (0.0, 0),\n",
       "  'quantization_parameters': {'scales': array([], dtype=float32),\n",
       "   'zero_points': array([], dtype=int32),\n",
       "   'quantized_dimension': 0},\n",
       "  'sparsity_parameters': {}},\n",
       " {'name': 'sequential/conv2d/Conv2D1',\n",
       "  'index': 12,\n",
       "  'shape': array([32,  3,  2,  1], dtype=int32),\n",
       "  'shape_signature': array([32,  3,  2,  1], dtype=int32),\n",
       "  'dtype': numpy.float32,\n",
       "  'quantization': (0.0, 0),\n",
       "  'quantization_parameters': {'scales': array([], dtype=float32),\n",
       "   'zero_points': array([], dtype=int32),\n",
       "   'quantized_dimension': 0},\n",
       "  'sparsity_parameters': {}},\n",
       " {'name': 'sequential/conv2d_1/Conv2D1',\n",
       "  'index': 13,\n",
       "  'shape': array([32,  3,  2, 32], dtype=int32),\n",
       "  'shape_signature': array([32,  3,  2, 32], dtype=int32),\n",
       "  'dtype': numpy.float32,\n",
       "  'quantization': (0.0, 0),\n",
       "  'quantization_parameters': {'scales': array([], dtype=float32),\n",
       "   'zero_points': array([], dtype=int32),\n",
       "   'quantized_dimension': 0},\n",
       "  'sparsity_parameters': {}},\n",
       " {'name': 'sequential/dense/BiasAdd/ReadVariableOp1',\n",
       "  'index': 14,\n",
       "  'shape': array([128], dtype=int32),\n",
       "  'shape_signature': array([128], dtype=int32),\n",
       "  'dtype': numpy.float32,\n",
       "  'quantization': (0.0, 0),\n",
       "  'quantization_parameters': {'scales': array([], dtype=float32),\n",
       "   'zero_points': array([], dtype=int32),\n",
       "   'quantized_dimension': 0},\n",
       "  'sparsity_parameters': {}},\n",
       " {'name': 'sequential/dense_1/BiasAdd/ReadVariableOp1',\n",
       "  'index': 15,\n",
       "  'shape': array([16], dtype=int32),\n",
       "  'shape_signature': array([16], dtype=int32),\n",
       "  'dtype': numpy.float32,\n",
       "  'quantization': (0.0, 0),\n",
       "  'quantization_parameters': {'scales': array([], dtype=float32),\n",
       "   'zero_points': array([], dtype=int32),\n",
       "   'quantized_dimension': 0},\n",
       "  'sparsity_parameters': {}},\n",
       " {'name': 'sequential/dense/MatMul1',\n",
       "  'index': 16,\n",
       "  'shape': array([ 128, 8192], dtype=int32),\n",
       "  'shape_signature': array([ 128, 8192], dtype=int32),\n",
       "  'dtype': numpy.float32,\n",
       "  'quantization': (0.0, 0),\n",
       "  'quantization_parameters': {'scales': array([], dtype=float32),\n",
       "   'zero_points': array([], dtype=int32),\n",
       "   'quantized_dimension': 0},\n",
       "  'sparsity_parameters': {}},\n",
       " {'name': 'sequential/dense_1/MatMul1',\n",
       "  'index': 17,\n",
       "  'shape': array([ 16, 128], dtype=int32),\n",
       "  'shape_signature': array([ 16, 128], dtype=int32),\n",
       "  'dtype': numpy.float32,\n",
       "  'quantization': (0.0, 0),\n",
       "  'quantization_parameters': {'scales': array([], dtype=float32),\n",
       "   'zero_points': array([], dtype=int32),\n",
       "   'quantized_dimension': 0},\n",
       "  'sparsity_parameters': {}},\n",
       " {'name': 'sequential/conv2d/Relu;sequential/conv2d/BiasAdd;sequential/conv2d_1/Conv2D;sequential/conv2d/Conv2D;sequential/conv2d/BiasAdd/ReadVariableOp',\n",
       "  'index': 18,\n",
       "  'shape': array([31997,   128,     2,    32], dtype=int32),\n",
       "  'shape_signature': array([ -1, 128,   2,  32], dtype=int32),\n",
       "  'dtype': numpy.float32,\n",
       "  'quantization': (0.0, 0),\n",
       "  'quantization_parameters': {'scales': array([], dtype=float32),\n",
       "   'zero_points': array([], dtype=int32),\n",
       "   'quantized_dimension': 0},\n",
       "  'sparsity_parameters': {}},\n",
       " {'name': 'sequential/conv2d_1/Relu;sequential/conv2d_1/BiasAdd;sequential/conv2d_1/Conv2D;sequential/conv2d_1/BiasAdd/ReadVariableOp',\n",
       "  'index': 19,\n",
       "  'shape': array([31997,   128,     2,    32], dtype=int32),\n",
       "  'shape_signature': array([ -1, 128,   2,  32], dtype=int32),\n",
       "  'dtype': numpy.float32,\n",
       "  'quantization': (0.0, 0),\n",
       "  'quantization_parameters': {'scales': array([], dtype=float32),\n",
       "   'zero_points': array([], dtype=int32),\n",
       "   'quantized_dimension': 0},\n",
       "  'sparsity_parameters': {}},\n",
       " {'name': 'sequential/flatten/Reshape',\n",
       "  'index': 20,\n",
       "  'shape': array([31997,  8192], dtype=int32),\n",
       "  'shape_signature': array([  -1, 8192], dtype=int32),\n",
       "  'dtype': numpy.float32,\n",
       "  'quantization': (0.0, 0),\n",
       "  'quantization_parameters': {'scales': array([], dtype=float32),\n",
       "   'zero_points': array([], dtype=int32),\n",
       "   'quantized_dimension': 0},\n",
       "  'sparsity_parameters': {}},\n",
       " {'name': 'sequential/dense/MatMul;sequential/dense/Relu;sequential/dense/BiasAdd',\n",
       "  'index': 21,\n",
       "  'shape': array([31997,   128], dtype=int32),\n",
       "  'shape_signature': array([ -1, 128], dtype=int32),\n",
       "  'dtype': numpy.float32,\n",
       "  'quantization': (0.0, 0),\n",
       "  'quantization_parameters': {'scales': array([], dtype=float32),\n",
       "   'zero_points': array([], dtype=int32),\n",
       "   'quantized_dimension': 0},\n",
       "  'sparsity_parameters': {}},\n",
       " {'name': 'sequential/dense_1/MatMul;sequential/dense_1/BiasAdd',\n",
       "  'index': 22,\n",
       "  'shape': array([31997,    16], dtype=int32),\n",
       "  'shape_signature': array([-1, 16], dtype=int32),\n",
       "  'dtype': numpy.float32,\n",
       "  'quantization': (0.0, 0),\n",
       "  'quantization_parameters': {'scales': array([], dtype=float32),\n",
       "   'zero_points': array([], dtype=int32),\n",
       "   'quantized_dimension': 0},\n",
       "  'sparsity_parameters': {}},\n",
       " {'name': 'StatefulPartitionedCall:0',\n",
       "  'index': 23,\n",
       "  'shape': array([31997,    16], dtype=int32),\n",
       "  'shape_signature': array([-1, 16], dtype=int32),\n",
       "  'dtype': numpy.float32,\n",
       "  'quantization': (0.0, 0),\n",
       "  'quantization_parameters': {'scales': array([], dtype=float32),\n",
       "   'zero_points': array([], dtype=int32),\n",
       "   'quantized_dimension': 0},\n",
       "  'sparsity_parameters': {}},\n",
       " {'name': 'Conv_hwcn_weights',\n",
       "  'index': 36,\n",
       "  'shape': array([ 6, 32], dtype=int32),\n",
       "  'shape_signature': array([ 6, 32], dtype=int32),\n",
       "  'dtype': numpy.float32,\n",
       "  'quantization': (0.0, 0),\n",
       "  'quantization_parameters': {'scales': array([], dtype=float32),\n",
       "   'zero_points': array([], dtype=int32),\n",
       "   'quantized_dimension': 0},\n",
       "  'sparsity_parameters': {}},\n",
       " {'name': 'Conv_hwcn_weights',\n",
       "  'index': 37,\n",
       "  'shape': array([192,  32], dtype=int32),\n",
       "  'shape_signature': array([192,  32], dtype=int32),\n",
       "  'dtype': numpy.float32,\n",
       "  'quantization': (0.0, 0),\n",
       "  'quantization_parameters': {'scales': array([], dtype=float32),\n",
       "   'zero_points': array([], dtype=int32),\n",
       "   'quantized_dimension': 0},\n",
       "  'sparsity_parameters': {}}]"
      ]
     },
     "execution_count": 23,
     "metadata": {},
     "output_type": "execute_result"
    }
   ],
   "source": [
    "interpreter.get_tensor_details()"
   ]
  },
  {
   "cell_type": "code",
   "execution_count": null,
   "metadata": {
    "id": "nAEOCN_R8xxa"
   },
   "outputs": [],
   "source": [
    "test_dset = h5py.File(\"sdr_wifi_test.hdf5\", 'r')\n",
    "X_test = dset['X'][()]\n",
    "y_test = dset['y'][()]"
   ]
  },
  {
   "cell_type": "code",
   "execution_count": null,
   "metadata": {
    "id": "-7by3nGW-oUM"
   },
   "outputs": [],
   "source": [
    "B = y_test\n",
    "\n",
    "test_matches0 = np.where(np.all(B == [0, 0, 0, 0], axis=1))[0]\n",
    "test_matches1 = np.where(np.all(B == [0, 0, 0, 1], axis=1))[0]\n",
    "test_matches2 = np.where(np.all(B == [0, 0, 1, 0], axis=1))[0]\n",
    "test_matches3 = np.where(np.all(B == [0, 0, 1, 1], axis=1))[0]\n",
    "test_matches4 = np.where(np.all(B == [0, 1, 0, 0], axis=1))[0]\n",
    "test_matches5 = np.where(np.all(B == [0, 1, 0, 1], axis=1))[0]\n",
    "test_matches6 = np.where(np.all(B == [0, 1, 1, 0], axis=1))[0]\n",
    "test_matches7 = np.where(np.all(B == [0, 1, 1, 1], axis=1))[0]\n",
    "test_matches8 = np.where(np.all(B == [1, 0, 0, 0], axis=1))[0]\n",
    "test_matches9 = np.where(np.all(B == [1, 0, 0, 1], axis=1))[0]\n",
    "test_matches10 = np.where(np.all(B == [1, 0, 1, 0], axis=1))[0]\n",
    "test_matches11 = np.where(np.all(B == [1, 0, 1, 1], axis=1))[0]\n",
    "test_matches12 = np.where(np.all(B == [1, 1, 0, 0], axis=1))[0]\n",
    "test_matches13 = np.where(np.all(B == [1, 1, 0, 1], axis=1))[0]\n",
    "test_matches14 = np.where(np.all(B == [1, 1, 1, 0], axis=1))[0]\n",
    "test_matches15 = np.where(np.all(B == [1, 1, 1, 1], axis=1))[0]\n",
    "\n",
    "test_list = list(B)\n",
    "\n",
    "\n",
    "value_to_replace = 0\n",
    "for index in test_matches0:\n",
    "    test_list[index] = value_to_replace\n",
    "value_to_replace = 1\n",
    "for index in test_matches1:\n",
    "    test_list[index] = value_to_replace\n",
    "value_to_replace = 2\n",
    "for index in test_matches2:\n",
    "    test_list[index] = value_to_replace\n",
    "value_to_replace = 3\n",
    "for index in test_matches3:\n",
    "    test_list[index] = value_to_replace\n",
    "value_to_replace = 4\n",
    "for index in test_matches4:\n",
    "    test_list[index] = value_to_replace\n",
    "value_to_replace = 5\n",
    "for index in test_matches5:\n",
    "    test_list[index] = value_to_replace\n",
    "value_to_replace = 6\n",
    "for index in test_matches6:\n",
    "    test_list[index] = value_to_replace\n",
    "value_to_replace = 7\n",
    "for index in test_matches7:\n",
    "    test_list[index] = value_to_replace\n",
    "value_to_replace = 8\n",
    "for index in test_matches8:\n",
    "    test_list[index] = value_to_replace\n",
    "value_to_replace = 9\n",
    "for index in test_matches9:\n",
    "    test_list[index] = value_to_replace\n",
    "value_to_replace = 10\n",
    "for index in test_matches10:\n",
    "    test_list[index] = value_to_replace\n",
    "value_to_replace = 11\n",
    "for index in test_matches11:\n",
    "    test_list[index] = value_to_replace\n",
    "value_to_replace = 12\n",
    "for index in test_matches12:\n",
    "    test_list[index] = value_to_replace\n",
    "value_to_replace = 13\n",
    "for index in test_matches13:\n",
    "    test_list[index] = value_to_replace\n",
    "value_to_replace = 14\n",
    "for index in test_matches14:\n",
    "    test_list[index] = value_to_replace\n",
    "value_to_replace = 15\n",
    "for index in test_matches15:\n",
    "    test_list[index] = value_to_replace\n",
    "\n",
    "test_label = np.array(test_list)"
   ]
  },
  {
   "cell_type": "code",
   "execution_count": null,
   "metadata": {
    "colab": {
     "base_uri": "https://localhost:8080/"
    },
    "executionInfo": {
     "elapsed": 91827,
     "status": "ok",
     "timestamp": 1714211848095,
     "user": {
      "displayName": "Muhammad Sadaqat",
      "userId": "06276696514282260562"
     },
     "user_tz": -240
    },
    "id": "3wDI8k0a-1iw",
    "outputId": "e321f550-b315-4fda-ff3e-035c22e79006"
   },
   "outputs": [
    {
     "name": "stdout",
     "output_type": "stream",
     "text": [
      "9000/9000 [==============================] - 86s 10ms/step\n"
     ]
    }
   ],
   "source": [
    "y_pred = model.predict(X_test)"
   ]
  },
  {
   "cell_type": "code",
   "execution_count": null,
   "metadata": {
    "colab": {
     "base_uri": "https://localhost:8080/"
    },
    "executionInfo": {
     "elapsed": 310,
     "status": "ok",
     "timestamp": 1714211881088,
     "user": {
      "displayName": "Muhammad Sadaqat",
      "userId": "06276696514282260562"
     },
     "user_tz": -240
    },
    "id": "AL0n2DPg_W60",
    "outputId": "7f525e0d-fb3f-4f3f-ffc6-f10c8008020a"
   },
   "outputs": [
    {
     "data": {
      "text/plain": [
       "array([[9.7438515e-06, 6.1954124e-06, 8.1883145e-10, ..., 2.9689226e-02,\n",
       "        5.4487973e-06, 8.9901391e-08],\n",
       "       [4.9851395e-05, 1.2083226e-06, 9.9746400e-01, ..., 4.3234764e-14,\n",
       "        1.7609750e-08, 8.8016660e-12],\n",
       "       [0.0000000e+00, 0.0000000e+00, 0.0000000e+00, ..., 0.0000000e+00,\n",
       "        0.0000000e+00, 0.0000000e+00],\n",
       "       ...,\n",
       "       [1.3316447e-08, 3.5584122e-10, 4.8920712e-03, ..., 1.2958783e-13,\n",
       "        1.7399025e-04, 2.3238753e-09],\n",
       "       [0.0000000e+00, 6.7614501e-27, 0.0000000e+00, ..., 0.0000000e+00,\n",
       "        0.0000000e+00, 1.0275707e-25],\n",
       "       [4.8008800e-04, 8.0679411e-07, 1.0876417e-03, ..., 4.0837490e-06,\n",
       "        8.5520645e-05, 5.8435359e-09]], dtype=float32)"
      ]
     },
     "execution_count": 31,
     "metadata": {},
     "output_type": "execute_result"
    }
   ],
   "source": [
    "y_pred"
   ]
  },
  {
   "cell_type": "code",
   "execution_count": null,
   "metadata": {
    "colab": {
     "base_uri": "https://localhost:8080/"
    },
    "executionInfo": {
     "elapsed": 295,
     "status": "ok",
     "timestamp": 1714212286451,
     "user": {
      "displayName": "Muhammad Sadaqat",
      "userId": "06276696514282260562"
     },
     "user_tz": -240
    },
    "id": "IhpeamNL_0Ln",
    "outputId": "9c328079-f554-404a-a496-00666cc5de86"
   },
   "outputs": [
    {
     "data": {
      "text/plain": [
       "array([9, 2, 8, ..., 6, 7, 6])"
      ]
     },
     "execution_count": 40,
     "metadata": {},
     "output_type": "execute_result"
    }
   ],
   "source": [
    "predicted_classes = np.argmax(y_pred, axis=1)\n",
    "y_predicted = np.array(predicted_classes)\n",
    "y_predicted"
   ]
  },
  {
   "cell_type": "code",
   "execution_count": null,
   "metadata": {
    "colab": {
     "base_uri": "https://localhost:8080/"
    },
    "executionInfo": {
     "elapsed": 340,
     "status": "ok",
     "timestamp": 1714212245947,
     "user": {
      "displayName": "Muhammad Sadaqat",
      "userId": "06276696514282260562"
     },
     "user_tz": -240
    },
    "id": "c9IF95mIAvPr",
    "outputId": "1c10d693-0ba8-4bcf-87a1-f74e981af29e"
   },
   "outputs": [
    {
     "data": {
      "text/plain": [
       "array([9, 2, 8, ..., 6, 7, 6])"
      ]
     },
     "execution_count": 37,
     "metadata": {},
     "output_type": "execute_result"
    }
   ],
   "source": [
    "test_label"
   ]
  },
  {
   "cell_type": "code",
   "execution_count": null,
   "metadata": {
    "id": "hQO6Jt8c-5Z9"
   },
   "outputs": [],
   "source": [
    "from sklearn.metrics import confusion_matrix\n",
    "confusion_matrix = confusion_matrix(test_label, y_predicted)"
   ]
  },
  {
   "cell_type": "code",
   "execution_count": null,
   "metadata": {
    "colab": {
     "base_uri": "https://localhost:8080/"
    },
    "executionInfo": {
     "elapsed": 14,
     "status": "ok",
     "timestamp": 1714212414912,
     "user": {
      "displayName": "Muhammad Sadaqat",
      "userId": "06276696514282260562"
     },
     "user_tz": -240
    },
    "id": "GCaBc-Iy--bk",
    "outputId": "ebfe6d3a-4ddc-49eb-f522-8c742ce4f803"
   },
   "outputs": [
    {
     "name": "stdout",
     "output_type": "stream",
     "text": [
      "[[18016    23     0     0     5     0     0     0     0     1     2     0\n",
      "      0     0     1     0]\n",
      " [ 1942 16032     0     1     0     2     0     1     0     5     0     1\n",
      "      0     0     0     0]\n",
      " [    4    10 17987     1     1     0    19     0     0     1     1     0\n",
      "      0     0     0    32]\n",
      " [    3    14   773 17165     3     0     0     1     0     2     1     3\n",
      "      0     0     0     1]\n",
      " [   35     0     0     0 17882    49     0     0     0     1     2     0\n",
      "      0     0     1     0]\n",
      " [    7     1     0     0    91 17897     1     0     0     0     0     4\n",
      "      0     0     0     0]\n",
      " [   16     0    40     7    17     2 17897    25     0     0     1     0\n",
      "      2     0     5     0]\n",
      " [    0     0    63     4     4    17    71 17821     0     0     0     0\n",
      "      0     0     0     2]\n",
      " [   21     0     0     4     5     0     0     0 17903     7     3     2\n",
      "     41     2     1     3]\n",
      " [   32     6    10     0     8    59     0     0  1007 16868     1     2\n",
      "      1     0     0     1]\n",
      " [    0     0     8     0     2     1     5     0     5     1 18028     3\n",
      "     10     0    18     0]\n",
      " [    0     3     0    10     0     0     0     0     6     0     2 17906\n",
      "      3     4     0     4]\n",
      " [   13     0     0     0    42     0     0     0     1     0     3     0\n",
      "  17916     1     1     0]\n",
      " [    7     0     0     0    26    65     0     0     1     7     0     0\n",
      "     16 17892     2     0]\n",
      " [    0     0     1     0     5     2    43     0     0     1     6     0\n",
      "     38     0 17866     6]\n",
      " [    0     0   294     0     0     0     4    10     0     0     2     7\n",
      "      0     4    41 17623]]\n"
     ]
    }
   ],
   "source": [
    "print(confusion_matrix)"
   ]
  },
  {
   "cell_type": "code",
   "execution_count": null,
   "metadata": {
    "colab": {
     "base_uri": "https://localhost:8080/",
     "height": 752
    },
    "executionInfo": {
     "elapsed": 2524,
     "status": "error",
     "timestamp": 1714212645609,
     "user": {
      "displayName": "Muhammad Sadaqat",
      "userId": "06276696514282260562"
     },
     "user_tz": -240
    },
    "id": "XSoIZ0VE_Rgw",
    "outputId": "580ba18c-dbaa-44c8-a55f-c379f42b25bc"
   },
   "outputs": [
    {
     "ename": "ValueError",
     "evalue": "The number of FixedLocator locations (16), usually from a call to set_ticks, does not match the number of labels (2).",
     "output_type": "error",
     "traceback": [
      "\u001b[0;31m---------------------------------------------------------------------------\u001b[0m",
      "\u001b[0;31mValueError\u001b[0m                                Traceback (most recent call last)",
      "\u001b[0;32m<ipython-input-45-26bb1127a193>\u001b[0m in \u001b[0;36m<cell line: 9>\u001b[0;34m()\u001b[0m\n\u001b[1;32m      7\u001b[0m \u001b[0mcm_display\u001b[0m \u001b[0;34m=\u001b[0m \u001b[0mmetrics\u001b[0m\u001b[0;34m.\u001b[0m\u001b[0mConfusionMatrixDisplay\u001b[0m\u001b[0;34m(\u001b[0m\u001b[0mconfusion_matrix\u001b[0m \u001b[0;34m=\u001b[0m \u001b[0mconfusion_matrix\u001b[0m\u001b[0;34m,\u001b[0m \u001b[0mdisplay_labels\u001b[0m \u001b[0;34m=\u001b[0m \u001b[0;34m[\u001b[0m\u001b[0;36m0\u001b[0m\u001b[0;34m,\u001b[0m \u001b[0;36m1\u001b[0m\u001b[0;34m]\u001b[0m\u001b[0;34m)\u001b[0m\u001b[0;34m\u001b[0m\u001b[0;34m\u001b[0m\u001b[0m\n\u001b[1;32m      8\u001b[0m \u001b[0;34m\u001b[0m\u001b[0m\n\u001b[0;32m----> 9\u001b[0;31m \u001b[0mcm_display\u001b[0m\u001b[0;34m.\u001b[0m\u001b[0mplot\u001b[0m\u001b[0;34m(\u001b[0m\u001b[0;34m)\u001b[0m\u001b[0;34m\u001b[0m\u001b[0;34m\u001b[0m\u001b[0m\n\u001b[0m\u001b[1;32m     10\u001b[0m \u001b[0mplt\u001b[0m\u001b[0;34m.\u001b[0m\u001b[0mshow\u001b[0m\u001b[0;34m(\u001b[0m\u001b[0;34m)\u001b[0m\u001b[0;34m\u001b[0m\u001b[0;34m\u001b[0m\u001b[0m\n",
      "\u001b[0;32m/usr/local/lib/python3.10/dist-packages/sklearn/metrics/_plot/confusion_matrix.py\u001b[0m in \u001b[0;36mplot\u001b[0;34m(self, include_values, cmap, xticks_rotation, values_format, ax, colorbar, im_kw, text_kw)\u001b[0m\n\u001b[1;32m    179\u001b[0m         \u001b[0;32mif\u001b[0m \u001b[0mcolorbar\u001b[0m\u001b[0;34m:\u001b[0m\u001b[0;34m\u001b[0m\u001b[0;34m\u001b[0m\u001b[0m\n\u001b[1;32m    180\u001b[0m             \u001b[0mfig\u001b[0m\u001b[0;34m.\u001b[0m\u001b[0mcolorbar\u001b[0m\u001b[0;34m(\u001b[0m\u001b[0mself\u001b[0m\u001b[0;34m.\u001b[0m\u001b[0mim_\u001b[0m\u001b[0;34m,\u001b[0m \u001b[0max\u001b[0m\u001b[0;34m=\u001b[0m\u001b[0max\u001b[0m\u001b[0;34m)\u001b[0m\u001b[0;34m\u001b[0m\u001b[0;34m\u001b[0m\u001b[0m\n\u001b[0;32m--> 181\u001b[0;31m         ax.set(\n\u001b[0m\u001b[1;32m    182\u001b[0m             \u001b[0mxticks\u001b[0m\u001b[0;34m=\u001b[0m\u001b[0mnp\u001b[0m\u001b[0;34m.\u001b[0m\u001b[0marange\u001b[0m\u001b[0;34m(\u001b[0m\u001b[0mn_classes\u001b[0m\u001b[0;34m)\u001b[0m\u001b[0;34m,\u001b[0m\u001b[0;34m\u001b[0m\u001b[0;34m\u001b[0m\u001b[0m\n\u001b[1;32m    183\u001b[0m             \u001b[0myticks\u001b[0m\u001b[0;34m=\u001b[0m\u001b[0mnp\u001b[0m\u001b[0;34m.\u001b[0m\u001b[0marange\u001b[0m\u001b[0;34m(\u001b[0m\u001b[0mn_classes\u001b[0m\u001b[0;34m)\u001b[0m\u001b[0;34m,\u001b[0m\u001b[0;34m\u001b[0m\u001b[0;34m\u001b[0m\u001b[0m\n",
      "\u001b[0;32m/usr/local/lib/python3.10/dist-packages/matplotlib/artist.py\u001b[0m in \u001b[0;36m<lambda>\u001b[0;34m(self, **kwargs)\u001b[0m\n\u001b[1;32m    145\u001b[0m             \u001b[0;32mreturn\u001b[0m\u001b[0;34m\u001b[0m\u001b[0;34m\u001b[0m\u001b[0m\n\u001b[1;32m    146\u001b[0m \u001b[0;34m\u001b[0m\u001b[0m\n\u001b[0;32m--> 147\u001b[0;31m         \u001b[0mcls\u001b[0m\u001b[0;34m.\u001b[0m\u001b[0mset\u001b[0m \u001b[0;34m=\u001b[0m \u001b[0;32mlambda\u001b[0m \u001b[0mself\u001b[0m\u001b[0;34m,\u001b[0m \u001b[0;34m**\u001b[0m\u001b[0mkwargs\u001b[0m\u001b[0;34m:\u001b[0m \u001b[0mArtist\u001b[0m\u001b[0;34m.\u001b[0m\u001b[0mset\u001b[0m\u001b[0;34m(\u001b[0m\u001b[0mself\u001b[0m\u001b[0;34m,\u001b[0m \u001b[0;34m**\u001b[0m\u001b[0mkwargs\u001b[0m\u001b[0;34m)\u001b[0m\u001b[0;34m\u001b[0m\u001b[0;34m\u001b[0m\u001b[0m\n\u001b[0m\u001b[1;32m    148\u001b[0m         \u001b[0mcls\u001b[0m\u001b[0;34m.\u001b[0m\u001b[0mset\u001b[0m\u001b[0;34m.\u001b[0m\u001b[0m__name__\u001b[0m \u001b[0;34m=\u001b[0m \u001b[0;34m\"set\"\u001b[0m\u001b[0;34m\u001b[0m\u001b[0;34m\u001b[0m\u001b[0m\n\u001b[1;32m    149\u001b[0m         \u001b[0mcls\u001b[0m\u001b[0;34m.\u001b[0m\u001b[0mset\u001b[0m\u001b[0;34m.\u001b[0m\u001b[0m__qualname__\u001b[0m \u001b[0;34m=\u001b[0m \u001b[0;34mf\"{cls.__qualname__}.set\"\u001b[0m\u001b[0;34m\u001b[0m\u001b[0;34m\u001b[0m\u001b[0m\n",
      "\u001b[0;32m/usr/local/lib/python3.10/dist-packages/matplotlib/artist.py\u001b[0m in \u001b[0;36mset\u001b[0;34m(self, **kwargs)\u001b[0m\n\u001b[1;32m   1229\u001b[0m         \u001b[0;31m# Artist._update_set_signature_and_docstring() at the end of the\u001b[0m\u001b[0;34m\u001b[0m\u001b[0;34m\u001b[0m\u001b[0m\n\u001b[1;32m   1230\u001b[0m         \u001b[0;31m# module.\u001b[0m\u001b[0;34m\u001b[0m\u001b[0;34m\u001b[0m\u001b[0m\n\u001b[0;32m-> 1231\u001b[0;31m         \u001b[0;32mreturn\u001b[0m \u001b[0mself\u001b[0m\u001b[0;34m.\u001b[0m\u001b[0m_internal_update\u001b[0m\u001b[0;34m(\u001b[0m\u001b[0mcbook\u001b[0m\u001b[0;34m.\u001b[0m\u001b[0mnormalize_kwargs\u001b[0m\u001b[0;34m(\u001b[0m\u001b[0mkwargs\u001b[0m\u001b[0;34m,\u001b[0m \u001b[0mself\u001b[0m\u001b[0;34m)\u001b[0m\u001b[0;34m)\u001b[0m\u001b[0;34m\u001b[0m\u001b[0;34m\u001b[0m\u001b[0m\n\u001b[0m\u001b[1;32m   1232\u001b[0m \u001b[0;34m\u001b[0m\u001b[0m\n\u001b[1;32m   1233\u001b[0m     \u001b[0;34m@\u001b[0m\u001b[0mcontextlib\u001b[0m\u001b[0;34m.\u001b[0m\u001b[0mcontextmanager\u001b[0m\u001b[0;34m\u001b[0m\u001b[0;34m\u001b[0m\u001b[0m\n",
      "\u001b[0;32m/usr/local/lib/python3.10/dist-packages/matplotlib/artist.py\u001b[0m in \u001b[0;36m_internal_update\u001b[0;34m(self, kwargs)\u001b[0m\n\u001b[1;32m   1221\u001b[0m         \u001b[0mThe\u001b[0m \u001b[0mlack\u001b[0m \u001b[0mof\u001b[0m \u001b[0mprenormalization\u001b[0m \u001b[0;32mis\u001b[0m \u001b[0mto\u001b[0m \u001b[0mmaintain\u001b[0m \u001b[0mbackcompatibility\u001b[0m\u001b[0;34m.\u001b[0m\u001b[0;34m\u001b[0m\u001b[0;34m\u001b[0m\u001b[0m\n\u001b[1;32m   1222\u001b[0m         \"\"\"\n\u001b[0;32m-> 1223\u001b[0;31m         return self._update_props(\n\u001b[0m\u001b[1;32m   1224\u001b[0m             \u001b[0mkwargs\u001b[0m\u001b[0;34m,\u001b[0m \u001b[0;34m\"{cls.__name__}.set() got an unexpected keyword argument \"\u001b[0m\u001b[0;34m\u001b[0m\u001b[0;34m\u001b[0m\u001b[0m\n\u001b[1;32m   1225\u001b[0m             \"{prop_name!r}\")\n",
      "\u001b[0;32m/usr/local/lib/python3.10/dist-packages/matplotlib/artist.py\u001b[0m in \u001b[0;36m_update_props\u001b[0;34m(self, props, errfmt)\u001b[0m\n\u001b[1;32m   1197\u001b[0m                         raise AttributeError(\n\u001b[1;32m   1198\u001b[0m                             errfmt.format(cls=type(self), prop_name=k))\n\u001b[0;32m-> 1199\u001b[0;31m                     \u001b[0mret\u001b[0m\u001b[0;34m.\u001b[0m\u001b[0mappend\u001b[0m\u001b[0;34m(\u001b[0m\u001b[0mfunc\u001b[0m\u001b[0;34m(\u001b[0m\u001b[0mv\u001b[0m\u001b[0;34m)\u001b[0m\u001b[0;34m)\u001b[0m\u001b[0;34m\u001b[0m\u001b[0;34m\u001b[0m\u001b[0m\n\u001b[0m\u001b[1;32m   1200\u001b[0m         \u001b[0;32mif\u001b[0m \u001b[0mret\u001b[0m\u001b[0;34m:\u001b[0m\u001b[0;34m\u001b[0m\u001b[0;34m\u001b[0m\u001b[0m\n\u001b[1;32m   1201\u001b[0m             \u001b[0mself\u001b[0m\u001b[0;34m.\u001b[0m\u001b[0mpchanged\u001b[0m\u001b[0;34m(\u001b[0m\u001b[0;34m)\u001b[0m\u001b[0;34m\u001b[0m\u001b[0;34m\u001b[0m\u001b[0m\n",
      "\u001b[0;32m/usr/local/lib/python3.10/dist-packages/matplotlib/axes/_base.py\u001b[0m in \u001b[0;36mwrapper\u001b[0;34m(self, *args, **kwargs)\u001b[0m\n\u001b[1;32m     72\u001b[0m \u001b[0;34m\u001b[0m\u001b[0m\n\u001b[1;32m     73\u001b[0m         \u001b[0;32mdef\u001b[0m \u001b[0mwrapper\u001b[0m\u001b[0;34m(\u001b[0m\u001b[0mself\u001b[0m\u001b[0;34m,\u001b[0m \u001b[0;34m*\u001b[0m\u001b[0margs\u001b[0m\u001b[0;34m,\u001b[0m \u001b[0;34m**\u001b[0m\u001b[0mkwargs\u001b[0m\u001b[0;34m)\u001b[0m\u001b[0;34m:\u001b[0m\u001b[0;34m\u001b[0m\u001b[0;34m\u001b[0m\u001b[0m\n\u001b[0;32m---> 74\u001b[0;31m             \u001b[0;32mreturn\u001b[0m \u001b[0mget_method\u001b[0m\u001b[0;34m(\u001b[0m\u001b[0mself\u001b[0m\u001b[0;34m)\u001b[0m\u001b[0;34m(\u001b[0m\u001b[0;34m*\u001b[0m\u001b[0margs\u001b[0m\u001b[0;34m,\u001b[0m \u001b[0;34m**\u001b[0m\u001b[0mkwargs\u001b[0m\u001b[0;34m)\u001b[0m\u001b[0;34m\u001b[0m\u001b[0;34m\u001b[0m\u001b[0m\n\u001b[0m\u001b[1;32m     75\u001b[0m \u001b[0;34m\u001b[0m\u001b[0m\n\u001b[1;32m     76\u001b[0m         \u001b[0mwrapper\u001b[0m\u001b[0;34m.\u001b[0m\u001b[0m__module__\u001b[0m \u001b[0;34m=\u001b[0m \u001b[0mowner\u001b[0m\u001b[0;34m.\u001b[0m\u001b[0m__module__\u001b[0m\u001b[0;34m\u001b[0m\u001b[0;34m\u001b[0m\u001b[0m\n",
      "\u001b[0;32m/usr/local/lib/python3.10/dist-packages/matplotlib/_api/deprecation.py\u001b[0m in \u001b[0;36mwrapper\u001b[0;34m(*args, **kwargs)\u001b[0m\n\u001b[1;32m    295\u001b[0m                 f\"for the old name will be dropped %(removal)s.\")\n\u001b[1;32m    296\u001b[0m             \u001b[0mkwargs\u001b[0m\u001b[0;34m[\u001b[0m\u001b[0mnew\u001b[0m\u001b[0;34m]\u001b[0m \u001b[0;34m=\u001b[0m \u001b[0mkwargs\u001b[0m\u001b[0;34m.\u001b[0m\u001b[0mpop\u001b[0m\u001b[0;34m(\u001b[0m\u001b[0mold\u001b[0m\u001b[0;34m)\u001b[0m\u001b[0;34m\u001b[0m\u001b[0;34m\u001b[0m\u001b[0m\n\u001b[0;32m--> 297\u001b[0;31m         \u001b[0;32mreturn\u001b[0m \u001b[0mfunc\u001b[0m\u001b[0;34m(\u001b[0m\u001b[0;34m*\u001b[0m\u001b[0margs\u001b[0m\u001b[0;34m,\u001b[0m \u001b[0;34m**\u001b[0m\u001b[0mkwargs\u001b[0m\u001b[0;34m)\u001b[0m\u001b[0;34m\u001b[0m\u001b[0;34m\u001b[0m\u001b[0m\n\u001b[0m\u001b[1;32m    298\u001b[0m \u001b[0;34m\u001b[0m\u001b[0m\n\u001b[1;32m    299\u001b[0m     \u001b[0;31m# wrapper() must keep the same documented signature as func(): if we\u001b[0m\u001b[0;34m\u001b[0m\u001b[0;34m\u001b[0m\u001b[0m\n",
      "\u001b[0;32m/usr/local/lib/python3.10/dist-packages/matplotlib/axis.py\u001b[0m in \u001b[0;36mset_ticklabels\u001b[0;34m(self, labels, minor, fontdict, **kwargs)\u001b[0m\n\u001b[1;32m   1967\u001b[0m             \u001b[0;31m# remove all tick labels, so only error for > 0 labels\u001b[0m\u001b[0;34m\u001b[0m\u001b[0;34m\u001b[0m\u001b[0m\n\u001b[1;32m   1968\u001b[0m             \u001b[0;32mif\u001b[0m \u001b[0mlen\u001b[0m\u001b[0;34m(\u001b[0m\u001b[0mlocator\u001b[0m\u001b[0;34m.\u001b[0m\u001b[0mlocs\u001b[0m\u001b[0;34m)\u001b[0m \u001b[0;34m!=\u001b[0m \u001b[0mlen\u001b[0m\u001b[0;34m(\u001b[0m\u001b[0mlabels\u001b[0m\u001b[0;34m)\u001b[0m \u001b[0;32mand\u001b[0m \u001b[0mlen\u001b[0m\u001b[0;34m(\u001b[0m\u001b[0mlabels\u001b[0m\u001b[0;34m)\u001b[0m \u001b[0;34m!=\u001b[0m \u001b[0;36m0\u001b[0m\u001b[0;34m:\u001b[0m\u001b[0;34m\u001b[0m\u001b[0;34m\u001b[0m\u001b[0m\n\u001b[0;32m-> 1969\u001b[0;31m                 raise ValueError(\n\u001b[0m\u001b[1;32m   1970\u001b[0m                     \u001b[0;34m\"The number of FixedLocator locations\"\u001b[0m\u001b[0;34m\u001b[0m\u001b[0;34m\u001b[0m\u001b[0m\n\u001b[1;32m   1971\u001b[0m                     \u001b[0;34mf\" ({len(locator.locs)}), usually from a call to\"\u001b[0m\u001b[0;34m\u001b[0m\u001b[0;34m\u001b[0m\u001b[0m\n",
      "\u001b[0;31mValueError\u001b[0m: The number of FixedLocator locations (16), usually from a call to set_ticks, does not match the number of labels (2)."
     ]
    },
    {
     "data": {
      "image/png": "[encoded data removed]",
      "text/plain": [
       "<Figure size 640x480 with 2 Axes>"
      ]
     },
     "metadata": {},
     "output_type": "display_data"
    }
   ],
   "source": [
    "import matplotlib.pyplot as plt\n",
    "import numpy\n",
    "from sklearn import metrics\n",
    "\n",
    "confusion_matrix = metrics.confusion_matrix(test_label, y_predicted)\n",
    "\n",
    "cm_display = metrics.ConfusionMatrixDisplay(confusion_matrix = confusion_matrix, display_labels = [0, 1])\n",
    "\n",
    "cm_display.plot()\n",
    "plt.show()"
   ]
  },
  {
   "cell_type": "code",
   "execution_count": null,
   "metadata": {
    "id": "SJr8aBobCFxQ"
   },
   "outputs": [],
   "source": []
  }
 ],
 "metadata": {
  "colab": {
   "authorship_tag": "ABX9TyNFjTIJiOSMytQiryy43LOY",
   "mount_file_id": "1yCsD3OGy3XXD6298LwoXrdp0mUHcbB2g",
   "provenance": []
  },
  "kernelspec": {
   "display_name": "Python 3",
   "name": "python3"
  },
  "language_info": {
   "name": "python"
  }
 },
 "nbformat": 4,
 "nbformat_minor": 0
}
