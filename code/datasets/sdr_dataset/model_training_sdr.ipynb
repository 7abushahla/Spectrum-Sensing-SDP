{
 "cells": [
  {
   "cell_type": "code",
   "execution_count": 1,
   "metadata": {
    "colab": {
     "background_save": true
    },
    "id": "rbVoZcmtdmgx"
   },
   "outputs": [
    {
     "name": "stderr",
     "output_type": "stream",
     "text": [
      "2024-08-31 14:44:45.329807: I tensorflow/core/platform/cpu_feature_guard.cc:210] This TensorFlow binary is optimized to use available CPU instructions in performance-critical operations.\n",
      "To enable the following instructions: AVX2 AVX512F AVX512_VNNI FMA, in other operations, rebuild TensorFlow with the appropriate compiler flags.\n"
     ]
    }
   ],
   "source": [
    "import numpy as np\n",
    "import h5py\n",
    "import tensorflow as tf\n",
    "from tensorflow.keras import Sequential\n",
    "from tensorflow.keras.layers import Dense, Conv2D, MaxPooling2D, LeakyReLU, Flatten, Input, LSTM, Reshape, TimeDistributed\n",
    "from tensorflow.keras.models import Model\n",
    "import argparse\n",
    "import matplotlib.pyplot as plt\n",
    "import sys"
   ]
  },
  {
   "cell_type": "code",
   "execution_count": 2,
   "metadata": {
    "colab": {
     "background_save": true
    },
    "id": "Lr6M8wXHdso0"
   },
   "outputs": [],
   "source": [
    "np.set_printoptions(threshold=5)\n",
    "#np.set_printoptions(threshold=sys.maxsize)"
   ]
  },
  {
   "cell_type": "markdown",
   "metadata": {
    "id": "jr4JCFTtdv5_"
   },
   "source": [
    "Importing Train dataset"
   ]
  },
  {
   "cell_type": "code",
   "execution_count": 3,
   "metadata": {
    "colab": {
     "background_save": true
    },
    "id": "wwl85iCAd0NU"
   },
   "outputs": [],
   "source": [
    "dset = h5py.File(\"sdr_wifi_train.hdf5\", 'r')\n",
    "X = dset['X'][()]\n",
    "y = dset['y'][()]"
   ]
  },
  {
   "cell_type": "code",
   "execution_count": 4,
   "metadata": {
    "colab": {
     "background_save": true,
     "base_uri": "https://localhost:8080/"
    },
    "executionInfo": {
     "elapsed": 8,
     "status": "ok",
     "timestamp": 1714736628898,
     "user": {
      "displayName": "Muhammad Sadaqat",
      "userId": "06276696514282260562"
     },
     "user_tz": -240
    },
    "id": "CY5MxlfRecko",
    "outputId": "b41598cf-a89e-469c-8f73-0213a62bbb89"
   },
   "outputs": [
    {
     "data": {
      "text/plain": [
       "(287971, 128, 2)"
      ]
     },
     "execution_count": 4,
     "metadata": {},
     "output_type": "execute_result"
    }
   ],
   "source": [
    "X.shape"
   ]
  },
  {
   "cell_type": "markdown",
   "metadata": {
    "id": "DONkH1FDd9dh"
   },
   "source": [
    "One hot encoding"
   ]
  },
  {
   "cell_type": "code",
   "execution_count": null,
   "metadata": {
    "colab": {
     "background_save": true
    },
    "id": "wVPObNsid1rH"
   },
   "outputs": [],
   "source": [
    "A = y\n",
    "\n",
    "matches0 = np.where(np.all(A == [0, 0, 0, 0], axis=1))[0]\n",
    "matches1 = np.where(np.all(A == [0, 0, 0, 1], axis=1))[0]\n",
    "matches2 = np.where(np.all(A == [0, 0, 1, 0], axis=1))[0]\n",
    "matches3 = np.where(np.all(A == [0, 0, 1, 1], axis=1))[0]\n",
    "matches4 = np.where(np.all(A == [0, 1, 0, 0], axis=1))[0]\n",
    "matches5 = np.where(np.all(A == [0, 1, 0, 1], axis=1))[0]\n",
    "matches6 = np.where(np.all(A == [0, 1, 1, 0], axis=1))[0]\n",
    "matches7 = np.where(np.all(A == [0, 1, 1, 1], axis=1))[0]\n",
    "matches8 = np.where(np.all(A == [1, 0, 0, 0], axis=1))[0]\n",
    "matches9 = np.where(np.all(A == [1, 0, 0, 1], axis=1))[0]\n",
    "matches10 = np.where(np.all(A == [1, 0, 1, 0], axis=1))[0]\n",
    "matches11 = np.where(np.all(A == [1, 0, 1, 1], axis=1))[0]\n",
    "matches12 = np.where(np.all(A == [1, 1, 0, 0], axis=1))[0]\n",
    "matches13 = np.where(np.all(A == [1, 1, 0, 1], axis=1))[0]\n",
    "matches14 = np.where(np.all(A == [1, 1, 1, 0], axis=1))[0]\n",
    "matches15 = np.where(np.all(A == [1, 1, 1, 1], axis=1))[0]\n",
    "\n",
    "my_list = list(A)\n",
    "\n",
    "value_to_replace = 0\n",
    "for index in matches0:\n",
    "    my_list[index] = value_to_replace\n",
    "value_to_replace = 1\n",
    "for index in matches1:\n",
    "    my_list[index] = value_to_replace\n",
    "value_to_replace = 2\n",
    "for index in matches2:\n",
    "    my_list[index] = value_to_replace\n",
    "value_to_replace = 3\n",
    "for index in matches3:\n",
    "    my_list[index] = value_to_replace\n",
    "value_to_replace = 4\n",
    "for index in matches4:\n",
    "    my_list[index] = value_to_replace\n",
    "value_to_replace = 5\n",
    "for index in matches5:\n",
    "    my_list[index] = value_to_replace\n",
    "value_to_replace = 6\n",
    "for index in matches6:\n",
    "    my_list[index] = value_to_replace\n",
    "value_to_replace = 7\n",
    "for index in matches7:\n",
    "    my_list[index] = value_to_replace\n",
    "value_to_replace = 8\n",
    "for index in matches8:\n",
    "    my_list[index] = value_to_replace\n",
    "value_to_replace = 9\n",
    "for index in matches9:\n",
    "    my_list[index] = value_to_replace\n",
    "value_to_replace = 10\n",
    "for index in matches10:\n",
    "    my_list[index] = value_to_replace\n",
    "value_to_replace = 11\n",
    "for index in matches11:\n",
    "    my_list[index] = value_to_replace\n",
    "value_to_replace = 12\n",
    "for index in matches12:\n",
    "    my_list[index] = value_to_replace\n",
    "value_to_replace = 13\n",
    "for index in matches13:\n",
    "    my_list[index] = value_to_replace\n",
    "value_to_replace = 14\n",
    "for index in matches14:\n",
    "    my_list[index] = value_to_replace\n",
    "value_to_replace = 15\n",
    "for index in matches15:\n",
    "    my_list[index] = value_to_replace\n",
    "\n",
    "y_label = np.array(my_list)\n",
    "\n",
    "my_dict = {0: [0, 0, 0, 0],\n",
    "           1: [0, 0, 0, 1],\n",
    "           2: [0, 0, 1, 0],\n",
    "           3: [0, 0, 1, 1],\n",
    "           4: [0, 1, 0, 0],\n",
    "           5: [0, 1, 0, 1],\n",
    "           6: [0, 1, 1, 0],\n",
    "           7: [0, 1, 1, 1],\n",
    "           8: [1, 0, 0, 0],\n",
    "           9: [1, 0, 0, 1],\n",
    "           10: [1, 0, 1, 0],\n",
    "           11: [1, 0, 1, 1],\n",
    "           12: [1, 1, 0, 0],\n",
    "           13: [1, 1, 0, 1],\n",
    "           14: [1, 1, 1, 0],\n",
    "           15: [1, 1, 1, 1]}"
   ]
  },
  {
   "cell_type": "markdown",
   "metadata": {
    "id": "9T3d7d4PeC1P"
   },
   "source": [
    "Model"
   ]
  },
  {
   "cell_type": "code",
   "execution_count": null,
   "metadata": {
    "colab": {
     "background_save": true,
     "base_uri": "https://localhost:8080/"
    },
    "executionInfo": {
     "elapsed": 812,
     "status": "ok",
     "timestamp": 1714736630256,
     "user": {
      "displayName": "Muhammad Sadaqat",
      "userId": "06276696514282260562"
     },
     "user_tz": -240
    },
    "id": "spB4EJHjeB_7",
    "outputId": "5629e9cc-1d3a-4375-f80d-a927bc0a4d92"
   },
   "outputs": [
    {
     "name": "stdout",
     "output_type": "stream",
     "text": [
      "Model: \"sequential\"\n",
      "_________________________________________________________________\n",
      " Layer (type)                Output Shape              Param #   \n",
      "=================================================================\n",
      " reshape (Reshape)           (None, 128, 2, 1)         0         \n",
      "                                                                 \n",
      " conv2d (Conv2D)             (None, 128, 2, 32)        224       \n",
      "                                                                 \n",
      " conv2d_1 (Conv2D)           (None, 128, 2, 32)        6176      \n",
      "                                                                 \n",
      " flatten (Flatten)           (None, 8192)              0         \n",
      "                                                                 \n",
      " dense (Dense)               (None, 128)               1048704   \n",
      "                                                                 \n",
      " dense_1 (Dense)             (None, 16)                2064      \n",
      "                                                                 \n",
      "=================================================================\n",
      "Total params: 1057168 (4.03 MB)\n",
      "Trainable params: 1057168 (4.03 MB)\n",
      "Non-trainable params: 0 (0.00 Byte)\n",
      "_________________________________________________________________\n"
     ]
    }
   ],
   "source": [
    "model = tf.keras.Sequential([\n",
    "    tf.keras.layers.InputLayer(input_shape=(128,2)),\n",
    "    tf.keras.layers.Reshape(target_shape=(128,2,1)),\n",
    "    tf.keras.layers.Conv2D(32, (3, 2), activation='relu', padding='same'),\n",
    "    tf.keras.layers.Conv2D(32, (3, 2), activation='relu', padding='same'),\n",
    "    tf.keras.layers.Flatten(),\n",
    "    tf.keras.layers.Dense(128, activation='relu'),\n",
    "    tf.keras.layers.Dense(16, activation='softmax'),\n",
    "])\n",
    "\n",
    "model.summary()"
   ]
  },
  {
   "cell_type": "code",
   "execution_count": null,
   "metadata": {
    "colab": {
     "background_save": true
    },
    "id": "33V53uUkeHSp"
   },
   "outputs": [],
   "source": [
    "model.compile(optimizer='adam', loss=tf.keras.losses.SparseCategoricalCrossentropy(from_logits=True), metrics=['accuracy'])"
   ]
  },
  {
   "cell_type": "code",
   "execution_count": null,
   "metadata": {
    "colab": {
     "background_save": true,
     "base_uri": "https://localhost:8080/"
    },
    "id": "CSTzyUfKeIyF"
   },
   "outputs": [
    {
     "name": "stdout",
     "output_type": "stream",
     "text": [
      "Epoch 1/15\n"
     ]
    },
    {
     "name": "stderr",
     "output_type": "stream",
     "text": [
      "/usr/local/lib/python3.10/dist-packages/keras/src/backend.py:5727: UserWarning: \"`sparse_categorical_crossentropy` received `from_logits=True`, but the `output` argument was produced by a Softmax activation and thus does not represent logits. Was this intended?\n",
      "  output, from_logits = _get_logits(\n"
     ]
    },
    {
     "name": "stdout",
     "output_type": "stream",
     "text": [
      "8100/8100 [==============================] - 304s 37ms/step - loss: 1.1318 - accuracy: 0.6454 - val_loss: 0.8911 - val_accuracy: 0.7045\n",
      "Epoch 2/15\n",
      "8100/8100 [==============================] - 273s 34ms/step - loss: 0.7389 - accuracy: 0.7506 - val_loss: 0.6613 - val_accuracy: 0.7678\n",
      "Epoch 3/15\n",
      "8100/8100 [==============================] - 264s 33ms/step - loss: 0.6049 - accuracy: 0.7825 - val_loss: 0.5542 - val_accuracy: 0.7960\n",
      "Epoch 4/15\n",
      "8100/8100 [==============================] - 261s 32ms/step - loss: 0.4890 - accuracy: 0.8242 - val_loss: 0.4013 - val_accuracy: 0.8677\n",
      "Epoch 5/15\n",
      "8100/8100 [==============================] - 265s 33ms/step - loss: 0.2231 - accuracy: 0.9329 - val_loss: 0.1402 - val_accuracy: 0.9692\n",
      "Epoch 6/15\n",
      "8100/8100 [==============================] - 259s 32ms/step - loss: 0.1047 - accuracy: 0.9699 - val_loss: 0.1288 - val_accuracy: 0.9649\n",
      "Epoch 7/15\n",
      "8100/8100 [==============================] - 263s 32ms/step - loss: 0.0898 - accuracy: 0.9722 - val_loss: 0.1121 - val_accuracy: 0.9795\n",
      "Epoch 8/15\n",
      "8100/8100 [==============================] - 260s 32ms/step - loss: 0.0843 - accuracy: 0.9734 - val_loss: 0.0946 - val_accuracy: 0.9803\n",
      "Epoch 9/15\n",
      "8100/8100 [==============================] - 264s 33ms/step - loss: 0.0746 - accuracy: 0.9762 - val_loss: 0.0985 - val_accuracy: 0.9812\n",
      "Epoch 10/15\n",
      "8100/8100 [==============================] - 260s 32ms/step - loss: 0.0639 - accuracy: 0.9787 - val_loss: 0.0975 - val_accuracy: 0.9830\n",
      "Epoch 11/15\n",
      "8100/8100 [==============================] - 260s 32ms/step - loss: 0.0639 - accuracy: 0.9792 - val_loss: 0.0921 - val_accuracy: 0.9829\n",
      "Epoch 12/15\n",
      "8100/8100 [==============================] - 263s 33ms/step - loss: 0.0602 - accuracy: 0.9803 - val_loss: 0.1113 - val_accuracy: 0.9812\n",
      "Epoch 13/15\n",
      "8100/8100 [==============================] - 259s 32ms/step - loss: 0.0542 - accuracy: 0.9818 - val_loss: 0.1533 - val_accuracy: 0.9724\n",
      "Epoch 14/15\n",
      "8100/8100 [==============================] - 261s 32ms/step - loss: 0.0505 - accuracy: 0.9833 - val_loss: 0.1340 - val_accuracy: 0.9803\n",
      "Epoch 15/15\n",
      "8100/8100 [==============================] - 263s 32ms/step - loss: 0.0466 - accuracy: 0.9846 - val_loss: 0.1430 - val_accuracy: 0.9814\n"
     ]
    }
   ],
   "source": [
    "NUM_EPOCHS = 15\n",
    "validation_split = 0.1\n",
    "\n",
    "history = model.fit(X, y_label, epochs=NUM_EPOCHS, validation_split=validation_split,verbose =1)"
   ]
  },
  {
   "cell_type": "code",
   "execution_count": null,
   "metadata": {
    "colab": {
     "base_uri": "https://localhost:8080/"
    },
    "executionInfo": {
     "elapsed": 18,
     "status": "ok",
     "timestamp": 1714574029380,
     "user": {
      "displayName": "Muhammad Sadaqat",
      "userId": "06276696514282260562"
     },
     "user_tz": -240
    },
    "id": "XEGon7QOeOWK",
    "outputId": "73e22af8-bb07-4dc7-a5f3-f0d7ae1f33e8"
   },
   "outputs": [
    {
     "name": "stderr",
     "output_type": "stream",
     "text": [
      "/usr/local/lib/python3.10/dist-packages/keras/src/engine/training.py:3103: UserWarning: You are saving your model as an HDF5 file via `model.save()`. This file format is considered legacy. We recommend using instead the native Keras format, e.g. `model.save('my_model.keras')`.\n",
      "  saving_api.save_model(\n"
     ]
    }
   ],
   "source": [
    "# model.save(\"Model_keras.h5\")"
   ]
  },
  {
   "cell_type": "markdown",
   "metadata": {
    "id": "Jedgln0jfnqS"
   },
   "source": [
    "Accuracy vs epochs"
   ]
  },
  {
   "cell_type": "code",
   "execution_count": null,
   "metadata": {
    "colab": {
     "base_uri": "https://localhost:8080/",
     "height": 472
    },
    "executionInfo": {
     "elapsed": 587,
     "status": "ok",
     "timestamp": 1714737199006,
     "user": {
      "displayName": "Muhammad Sadaqat",
      "userId": "06276696514282260562"
     },
     "user_tz": -240
    },
    "id": "eYLoUp1jfmtX",
    "outputId": "d5fa8361-fb09-487c-91ea-f133203f309a"
   },
   "outputs": [
    {
     "data": {
      "image/png": "[encoded data removed]",
      "text/plain": [
       "<Figure size 640x480 with 1 Axes>"
      ]
     },
     "metadata": {},
     "output_type": "display_data"
    }
   ],
   "source": [
    "plt.plot(history.history['accuracy'], label='accuracy')\n",
    "plt.plot(history.history['val_accuracy'], label='val_accuracy')\n",
    "plt.xlabel('Epoch')\n",
    "plt.ylabel('Accuracy')\n",
    "plt.title('Epochs vs Accuracy plot')\n",
    "plt.legend()\n",
    "plt.grid(True)\n",
    "plt.show()"
   ]
  },
  {
   "cell_type": "markdown",
   "metadata": {
    "id": "z2TzzN3If4-9"
   },
   "source": [
    "loss vs epochs"
   ]
  },
  {
   "cell_type": "code",
   "execution_count": null,
   "metadata": {
    "colab": {
     "base_uri": "https://localhost:8080/",
     "height": 472
    },
    "executionInfo": {
     "elapsed": 929,
     "status": "ok",
     "timestamp": 1714737256609,
     "user": {
      "displayName": "Muhammad Sadaqat",
      "userId": "06276696514282260562"
     },
     "user_tz": -240
    },
    "id": "XhvUZs-0f4UU",
    "outputId": "5b980011-0c0d-42ac-f5dd-7b1d02770839"
   },
   "outputs": [
    {
     "data": {
      "image/png": "[encoded data removed]",
      "text/plain": [
       "<Figure size 640x480 with 1 Axes>"
      ]
     },
     "metadata": {},
     "output_type": "display_data"
    }
   ],
   "source": [
    "plt.plot(history.history['loss'], label='loss')\n",
    "plt.plot(history.history['val_loss'], label='val_loss')\n",
    "plt.xlabel('Epoch')\n",
    "plt.ylabel('Loss')\n",
    "plt.title('Epochs vs Loss plot')\n",
    "plt.legend()\n",
    "plt.grid(True)\n",
    "plt.show()"
   ]
  },
  {
   "cell_type": "markdown",
   "metadata": {
    "id": "5a-CJfiteQMk"
   },
   "source": [
    "Testing dataset"
   ]
  },
  {
   "cell_type": "code",
   "execution_count": 5,
   "metadata": {
    "id": "wEs2zHhyePrL"
   },
   "outputs": [],
   "source": [
    "test_dset = h5py.File(\"sdr_wifi_test.hdf5\", 'r')\n",
    "X_test = test_dset['X'][()]\n",
    "y_test = test_dset['y'][()]"
   ]
  },
  {
   "cell_type": "code",
   "execution_count": 6,
   "metadata": {
    "colab": {
     "base_uri": "https://localhost:8080/"
    },
    "executionInfo": {
     "elapsed": 6,
     "status": "ok",
     "timestamp": 1714574035121,
     "user": {
      "displayName": "Muhammad Sadaqat",
      "userId": "06276696514282260562"
     },
     "user_tz": -240
    },
    "id": "itqmkvsZehJl",
    "outputId": "27482e5c-e37f-41b9-b97d-f5ba3c935b5e"
   },
   "outputs": [
    {
     "data": {
      "text/plain": [
       "(31997, 128, 2)"
      ]
     },
     "execution_count": 6,
     "metadata": {},
     "output_type": "execute_result"
    }
   ],
   "source": [
    "X_test.shape"
   ]
  },
  {
   "cell_type": "code",
   "execution_count": null,
   "metadata": {
    "id": "ZaWxm3DpeYRV"
   },
   "outputs": [],
   "source": [
    "B = y_test\n",
    "\n",
    "test_matches0 = np.where(np.all(B == [0, 0, 0, 0], axis=1))[0]\n",
    "test_matches1 = np.where(np.all(B == [0, 0, 0, 1], axis=1))[0]\n",
    "test_matches2 = np.where(np.all(B == [0, 0, 1, 0], axis=1))[0]\n",
    "test_matches3 = np.where(np.all(B == [0, 0, 1, 1], axis=1))[0]\n",
    "test_matches4 = np.where(np.all(B == [0, 1, 0, 0], axis=1))[0]\n",
    "test_matches5 = np.where(np.all(B == [0, 1, 0, 1], axis=1))[0]\n",
    "test_matches6 = np.where(np.all(B == [0, 1, 1, 0], axis=1))[0]\n",
    "test_matches7 = np.where(np.all(B == [0, 1, 1, 1], axis=1))[0]\n",
    "test_matches8 = np.where(np.all(B == [1, 0, 0, 0], axis=1))[0]\n",
    "test_matches9 = np.where(np.all(B == [1, 0, 0, 1], axis=1))[0]\n",
    "test_matches10 = np.where(np.all(B == [1, 0, 1, 0], axis=1))[0]\n",
    "test_matches11 = np.where(np.all(B == [1, 0, 1, 1], axis=1))[0]\n",
    "test_matches12 = np.where(np.all(B == [1, 1, 0, 0], axis=1))[0]\n",
    "test_matches13 = np.where(np.all(B == [1, 1, 0, 1], axis=1))[0]\n",
    "test_matches14 = np.where(np.all(B == [1, 1, 1, 0], axis=1))[0]\n",
    "test_matches15 = np.where(np.all(B == [1, 1, 1, 1], axis=1))[0]\n",
    "\n",
    "test_list = list(B)\n",
    "\n",
    "\n",
    "value_to_replace = 0\n",
    "for index in test_matches0:\n",
    "    test_list[index] = value_to_replace\n",
    "value_to_replace = 1\n",
    "for index in test_matches1:\n",
    "    test_list[index] = value_to_replace\n",
    "value_to_replace = 2\n",
    "for index in test_matches2:\n",
    "    test_list[index] = value_to_replace\n",
    "value_to_replace = 3\n",
    "for index in test_matches3:\n",
    "    test_list[index] = value_to_replace\n",
    "value_to_replace = 4\n",
    "for index in test_matches4:\n",
    "    test_list[index] = value_to_replace\n",
    "value_to_replace = 5\n",
    "for index in test_matches5:\n",
    "    test_list[index] = value_to_replace\n",
    "value_to_replace = 6\n",
    "for index in test_matches6:\n",
    "    test_list[index] = value_to_replace\n",
    "value_to_replace = 7\n",
    "for index in test_matches7:\n",
    "    test_list[index] = value_to_replace\n",
    "value_to_replace = 8\n",
    "for index in test_matches8:\n",
    "    test_list[index] = value_to_replace\n",
    "value_to_replace = 9\n",
    "for index in test_matches9:\n",
    "    test_list[index] = value_to_replace\n",
    "value_to_replace = 10\n",
    "for index in test_matches10:\n",
    "    test_list[index] = value_to_replace\n",
    "value_to_replace = 11\n",
    "for index in test_matches11:\n",
    "    test_list[index] = value_to_replace\n",
    "value_to_replace = 12\n",
    "for index in test_matches12:\n",
    "    test_list[index] = value_to_replace\n",
    "value_to_replace = 13\n",
    "for index in test_matches13:\n",
    "    test_list[index] = value_to_replace\n",
    "value_to_replace = 14\n",
    "for index in test_matches14:\n",
    "    test_list[index] = value_to_replace\n",
    "value_to_replace = 15\n",
    "for index in test_matches15:\n",
    "    test_list[index] = value_to_replace\n",
    "\n",
    "test_label = np.array(test_list)"
   ]
  },
  {
   "cell_type": "code",
   "execution_count": null,
   "metadata": {
    "colab": {
     "base_uri": "https://localhost:8080/"
    },
    "executionInfo": {
     "elapsed": 3544,
     "status": "ok",
     "timestamp": 1714574038661,
     "user": {
      "displayName": "Muhammad Sadaqat",
      "userId": "06276696514282260562"
     },
     "user_tz": -240
    },
    "id": "pnwwqI8veZbG",
    "outputId": "872481dc-e7b7-4fbe-84d5-0eba79ac28a9"
   },
   "outputs": [
    {
     "name": "stdout",
     "output_type": "stream",
     "text": [
      "1000/1000 [==============================] - 3s 3ms/step - loss: 0.2255 - accuracy: 0.9373\n",
      "Loss: 0.2255161702632904\n",
      "Acc: 0.9373066425323486\n"
     ]
    }
   ],
   "source": [
    "score = model.evaluate(X_test, test_label, verbose=1)\n",
    "print('Loss: ' + str(score[0]))\n",
    "print('Acc: ' + str(score[1]))"
   ]
  },
  {
   "cell_type": "code",
   "execution_count": null,
   "metadata": {
    "id": "4bHg7Haxhott"
   },
   "outputs": [],
   "source": []
  }
 ],
 "metadata": {
  "colab": {
   "authorship_tag": "ABX9TyMVeRt0gNJHXKN2h4xHG4iO",
   "mount_file_id": "1DFqZ8_jPUdRuUQ0aXBVUEjFu45y9YZpJ",
   "name": "",
   "version": ""
  },
  "kernelspec": {
   "display_name": "Python 3",
   "name": "python3"
  },
  "language_info": {
   "codemirror_mode": {
    "name": "ipython",
    "version": 3
   },
   "file_extension": ".py",
   "mimetype": "text/x-python",
   "name": "python",
   "nbconvert_exporter": "python",
   "pygments_lexer": "ipython3",
   "version": "3.11.5"
  }
 },
 "nbformat": 4,
 "nbformat_minor": 0
}
